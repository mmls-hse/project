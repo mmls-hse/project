{
  "cells": [
    {
      "cell_type": "markdown",
      "id": "28ccdfe7",
      "metadata": {},
      "source": [
        "Импорты из скриптов и библиотек"
      ]
    },
    {
      "cell_type": "code",
      "execution_count": null,
      "id": "UDAsix_x1Sji",
      "metadata": {
        "id": "UDAsix_x1Sji"
      },
      "outputs": [],
      "source": [
        "import torch\n",
        "import torch.nn as nn\n",
        "import pandas as pd\n",
        "#from torch.nn.utils.rnn import pad_sequence\n",
        "from torch.utils.data import DataLoader\n",
        "from rouge_score import rouge_scorer\n",
        "import mlflow\n",
        "\n",
        "from src.model import Seq2Seq\n",
        "from src.dataset import TextDataset, collate_fn, train_tokenizer\n",
        "from src.train_eval import set_seed, train_model, generate_summary\n",
        "from src.metrics import calculate_bleu, calculate_meteor, calculate_rouge, calculate_perplexity\n",
        "\n",
        "set_seed(42)"
      ]
    },
    {
      "cell_type": "markdown",
      "id": "fcdd60ac",
      "metadata": {},
      "source": [
        "Открытие датасета и подготовка токенайзера"
      ]
    },
    {
      "cell_type": "code",
      "execution_count": null,
      "id": "RdVI7kgl-24B",
      "metadata": {
        "colab": {
          "base_uri": "https://localhost:8080/",
          "height": 49,
          "referenced_widgets": [
            "02ae26a066b3484daa4424e1994058d4",
            "0faa5e9d831449519b57ae2f3e7a7eff",
            "2a288ef30c554921811ee6e6bb30e205",
            "2f4503d93635438ebd3d2328602877a6",
            "e54cef9294f24c4e888704178ff302e0",
            "c708e6fb2dba408696bf1827704f31f0",
            "17f52a066f4540588cf4e3f6dbba0cb8",
            "8e33eb2f55804a4dbb7d9727623d1bba",
            "99926bba91c7492687ec349d3fe01227",
            "3fa161d8f8e440e3b7baf63aa8e22ac2",
            "aea5ef26da114e9897647f3aeb4a210f"
          ]
        },
        "id": "RdVI7kgl-24B",
        "outputId": "eac36525-bcc2-4199-89bd-55d188783a40"
      },
      "outputs": [],
      "source": [
        "df = pd.read_csv(\"train_data.csv\")\n",
        "\n",
        "texts = df['text'].tolist()\n",
        "summaries = df['summary'].tolist()\n",
        "\n",
        "tokenizer = train_tokenizer(texts)"
      ]
    },
    {
      "cell_type": "markdown",
      "id": "4f36a6ff",
      "metadata": {},
      "source": [
        "Выбор гиперпараметров, подготовка дата лоадера и модели"
      ]
    },
    {
      "cell_type": "code",
      "execution_count": null,
      "id": "6C11NEy0HS6Q",
      "metadata": {
        "id": "6C11NEy0HS6Q"
      },
      "outputs": [],
      "source": [
        "dataset = TextDataset(df, tokenizer)\n",
        "\n",
        "batch_size = 32\n",
        "dataloader = DataLoader(dataset, batch_size=batch_size, shuffle=False, collate_fn=collate_fn)\n",
        "\n",
        "vocab_size = len(tokenizer.get_vocab())\n",
        "embedding_dim = 128\n",
        "hidden_size = 128\n",
        "device = torch.device(\"cuda\" if torch.cuda.is_available() else \"cpu\")\n",
        "\n",
        "model = nn.DataParallel(Seq2Seq(vocab_size, embedding_dim, hidden_size)).to(device)"
      ]
    },
    {
      "cell_type": "markdown",
      "id": "b6aae000",
      "metadata": {},
      "source": [
        "Логирование гиперпараметров"
      ]
    },
    {
      "cell_type": "code",
      "execution_count": null,
      "id": "Ile-Q4_ji7w-",
      "metadata": {
        "colab": {
          "base_uri": "https://localhost:8080/"
        },
        "id": "Ile-Q4_ji7w-",
        "outputId": "15771aaf-e320-4f63-b630-d970a643fc7c"
      },
      "outputs": [],
      "source": [
        "mlflow.set_tracking_uri(\"file:./mlruns\")  # Локальное хранилище\n",
        "mlflow.start_run()\n",
        "\n",
        "mlflow.log_param(\"embedding_dim\", embedding_dim)\n",
        "mlflow.log_param(\"hidden_size\", hidden_size)\n",
        "mlflow.log_param(\"batch_size\", batch_size)\n",
        "print(\"Логирование начато\")"
      ]
    },
    {
      "cell_type": "markdown",
      "id": "dcc97804",
      "metadata": {},
      "source": [
        "Запуск обучения модели"
      ]
    },
    {
      "cell_type": "code",
      "execution_count": null,
      "id": "mB7CYwhI0WEu",
      "metadata": {
        "colab": {
          "base_uri": "https://localhost:8080/",
          "height": 66,
          "referenced_widgets": [
            "3053f35d80a649619a2880a9247e1d64",
            "322c1a49b7004e09b695783a701b46dc",
            "f684fb2a839f41bca48575f543d8cd22",
            "de951996ddcd4e83a44437168c88ec44",
            "559bbfd8f54c4111aa8d35c64b45fe5a",
            "abacab82cb4b49aaa4fcd4cce468a70e",
            "ac9f1ea0570042a2ae31b3f52af82610",
            "1a01aec5aff54b8d905a506f61c57a1a",
            "7828dcc995c54413905b4f021dc407d6",
            "ba3d6b27516a4d9bbdfc3e3a095bdd2b",
            "db2d3a3af559419c92068b7050a441ab"
          ]
        },
        "id": "mB7CYwhI0WEu",
        "outputId": "f3f9b47f-532b-41a4-ab00-cbd5b8a64366"
      },
      "outputs": [],
      "source": [
        "set_seed(42)\n",
        "train_model(model, dataloader, tokenizer, num_epochs=1)\n",
        "\n",
        "mlflow.pytorch.log_model(model, \"model\")\n",
        "mlflow.end_run()"
      ]
    },
    {
      "cell_type": "markdown",
      "id": "a7e9be7d",
      "metadata": {},
      "source": [
        "Eval модели"
      ]
    },
    {
      "cell_type": "code",
      "execution_count": null,
      "id": "_hsDkjF_00ri",
      "metadata": {
        "colab": {
          "base_uri": "https://localhost:8080/"
        },
        "id": "_hsDkjF_00ri",
        "outputId": "29b7305b-9679-4e63-84e5-e77e6733a897"
      },
      "outputs": [],
      "source": [
        "reference_summary = df.iloc[3]['text']\n",
        "generated_summary = generate_summary(model, tokenizer, reference_summary)\n",
        "print(f\"Generated summary: {generated_summary}\")"
      ]
    },
    {
      "cell_type": "markdown",
      "id": "38bc5151",
      "metadata": {},
      "source": [
        "Вычисление метрик"
      ]
    },
    {
      "cell_type": "code",
      "execution_count": null,
      "id": "vchJsKaqCJjL",
      "metadata": {
        "colab": {
          "base_uri": "https://localhost:8080/"
        },
        "id": "vchJsKaqCJjL",
        "outputId": "1a56ccbe-6761-4eb6-85df-2154f524b0b1"
      },
      "outputs": [],
      "source": [
        "bleu_score = calculate_bleu(reference_summary, generated_summary)\n",
        "print(f\"BLEU score: {bleu_score:.4f}\")\n",
        "\n",
        "meteor_score_value = calculate_meteor(reference_summary, generated_summary)\n",
        "print(f\"METEOR score: {meteor_score_value:.4f}\")\n",
        "\n",
        "scorer = rouge_scorer.RougeScorer(['rouge1', 'rouge2', 'rougeL'], use_stemmer=True)\n",
        "rouge_scores = calculate_rouge(reference_summary, generated_summary, scorer)\n",
        "for key, value in rouge_scores.items():\n",
        "    print(f\"{key}: precision={value.precision:.4f}, recall={value.recall:.4f}, fmeasure={value.fmeasure:.4f}\")\n",
        "\n",
        "perplexity = calculate_perplexity(model, tokenizer, reference_summary)\n",
        "print(f\"Perplexity: {perplexity:.4f}\")"
      ]
    }
  ],
  "metadata": {
    "accelerator": "GPU",
    "colab": {
      "gpuType": "T4",
      "provenance": []
    },
    "kernelspec": {
      "display_name": "Python 3",
      "language": "python",
      "name": "python3"
    },
    "language_info": {
      "codemirror_mode": {
        "name": "ipython",
        "version": 3
      },
      "file_extension": ".py",
      "mimetype": "text/x-python",
      "name": "python",
      "nbconvert_exporter": "python",
      "pygments_lexer": "ipython3",
      "version": "3.11.1"
    },
    "widgets": {
      "application/vnd.jupyter.widget-state+json": {
        "02ae26a066b3484daa4424e1994058d4": {
          "model_module": "@jupyter-widgets/controls",
          "model_module_version": "1.5.0",
          "model_name": "HBoxModel",
          "state": {
            "_dom_classes": [],
            "_model_module": "@jupyter-widgets/controls",
            "_model_module_version": "1.5.0",
            "_model_name": "HBoxModel",
            "_view_count": null,
            "_view_module": "@jupyter-widgets/controls",
            "_view_module_version": "1.5.0",
            "_view_name": "HBoxView",
            "box_style": "",
            "children": [
              "IPY_MODEL_0faa5e9d831449519b57ae2f3e7a7eff",
              "IPY_MODEL_2a288ef30c554921811ee6e6bb30e205",
              "IPY_MODEL_2f4503d93635438ebd3d2328602877a6"
            ],
            "layout": "IPY_MODEL_e54cef9294f24c4e888704178ff302e0"
          }
        },
        "0faa5e9d831449519b57ae2f3e7a7eff": {
          "model_module": "@jupyter-widgets/controls",
          "model_module_version": "1.5.0",
          "model_name": "HTMLModel",
          "state": {
            "_dom_classes": [],
            "_model_module": "@jupyter-widgets/controls",
            "_model_module_version": "1.5.0",
            "_model_name": "HTMLModel",
            "_view_count": null,
            "_view_module": "@jupyter-widgets/controls",
            "_view_module_version": "1.5.0",
            "_view_name": "HTMLView",
            "description": "",
            "description_tooltip": null,
            "layout": "IPY_MODEL_c708e6fb2dba408696bf1827704f31f0",
            "placeholder": "​",
            "style": "IPY_MODEL_17f52a066f4540588cf4e3f6dbba0cb8",
            "value": "Training tokenizer: 100%"
          }
        },
        "17f52a066f4540588cf4e3f6dbba0cb8": {
          "model_module": "@jupyter-widgets/controls",
          "model_module_version": "1.5.0",
          "model_name": "DescriptionStyleModel",
          "state": {
            "_model_module": "@jupyter-widgets/controls",
            "_model_module_version": "1.5.0",
            "_model_name": "DescriptionStyleModel",
            "_view_count": null,
            "_view_module": "@jupyter-widgets/base",
            "_view_module_version": "1.2.0",
            "_view_name": "StyleView",
            "description_width": ""
          }
        },
        "1a01aec5aff54b8d905a506f61c57a1a": {
          "model_module": "@jupyter-widgets/base",
          "model_module_version": "1.2.0",
          "model_name": "LayoutModel",
          "state": {
            "_model_module": "@jupyter-widgets/base",
            "_model_module_version": "1.2.0",
            "_model_name": "LayoutModel",
            "_view_count": null,
            "_view_module": "@jupyter-widgets/base",
            "_view_module_version": "1.2.0",
            "_view_name": "LayoutView",
            "align_content": null,
            "align_items": null,
            "align_self": null,
            "border": null,
            "bottom": null,
            "display": null,
            "flex": null,
            "flex_flow": null,
            "grid_area": null,
            "grid_auto_columns": null,
            "grid_auto_flow": null,
            "grid_auto_rows": null,
            "grid_column": null,
            "grid_gap": null,
            "grid_row": null,
            "grid_template_areas": null,
            "grid_template_columns": null,
            "grid_template_rows": null,
            "height": null,
            "justify_content": null,
            "justify_items": null,
            "left": null,
            "margin": null,
            "max_height": null,
            "max_width": null,
            "min_height": null,
            "min_width": null,
            "object_fit": null,
            "object_position": null,
            "order": null,
            "overflow": null,
            "overflow_x": null,
            "overflow_y": null,
            "padding": null,
            "right": null,
            "top": null,
            "visibility": null,
            "width": null
          }
        },
        "2a288ef30c554921811ee6e6bb30e205": {
          "model_module": "@jupyter-widgets/controls",
          "model_module_version": "1.5.0",
          "model_name": "FloatProgressModel",
          "state": {
            "_dom_classes": [],
            "_model_module": "@jupyter-widgets/controls",
            "_model_module_version": "1.5.0",
            "_model_name": "FloatProgressModel",
            "_view_count": null,
            "_view_module": "@jupyter-widgets/controls",
            "_view_module_version": "1.5.0",
            "_view_name": "ProgressView",
            "bar_style": "success",
            "description": "",
            "description_tooltip": null,
            "layout": "IPY_MODEL_8e33eb2f55804a4dbb7d9727623d1bba",
            "max": 20654,
            "min": 0,
            "orientation": "horizontal",
            "style": "IPY_MODEL_99926bba91c7492687ec349d3fe01227",
            "value": 20654
          }
        },
        "2f4503d93635438ebd3d2328602877a6": {
          "model_module": "@jupyter-widgets/controls",
          "model_module_version": "1.5.0",
          "model_name": "HTMLModel",
          "state": {
            "_dom_classes": [],
            "_model_module": "@jupyter-widgets/controls",
            "_model_module_version": "1.5.0",
            "_model_name": "HTMLModel",
            "_view_count": null,
            "_view_module": "@jupyter-widgets/controls",
            "_view_module_version": "1.5.0",
            "_view_name": "HTMLView",
            "description": "",
            "description_tooltip": null,
            "layout": "IPY_MODEL_3fa161d8f8e440e3b7baf63aa8e22ac2",
            "placeholder": "​",
            "style": "IPY_MODEL_aea5ef26da114e9897647f3aeb4a210f",
            "value": " 20654/20654 [00:02&lt;00:00, 5987.46it/s]"
          }
        },
        "3053f35d80a649619a2880a9247e1d64": {
          "model_module": "@jupyter-widgets/controls",
          "model_module_version": "1.5.0",
          "model_name": "HBoxModel",
          "state": {
            "_dom_classes": [],
            "_model_module": "@jupyter-widgets/controls",
            "_model_module_version": "1.5.0",
            "_model_name": "HBoxModel",
            "_view_count": null,
            "_view_module": "@jupyter-widgets/controls",
            "_view_module_version": "1.5.0",
            "_view_name": "HBoxView",
            "box_style": "",
            "children": [
              "IPY_MODEL_322c1a49b7004e09b695783a701b46dc",
              "IPY_MODEL_f684fb2a839f41bca48575f543d8cd22",
              "IPY_MODEL_de951996ddcd4e83a44437168c88ec44"
            ],
            "layout": "IPY_MODEL_559bbfd8f54c4111aa8d35c64b45fe5a"
          }
        },
        "322c1a49b7004e09b695783a701b46dc": {
          "model_module": "@jupyter-widgets/controls",
          "model_module_version": "1.5.0",
          "model_name": "HTMLModel",
          "state": {
            "_dom_classes": [],
            "_model_module": "@jupyter-widgets/controls",
            "_model_module_version": "1.5.0",
            "_model_name": "HTMLModel",
            "_view_count": null,
            "_view_module": "@jupyter-widgets/controls",
            "_view_module_version": "1.5.0",
            "_view_name": "HTMLView",
            "description": "",
            "description_tooltip": null,
            "layout": "IPY_MODEL_abacab82cb4b49aaa4fcd4cce468a70e",
            "placeholder": "​",
            "style": "IPY_MODEL_ac9f1ea0570042a2ae31b3f52af82610",
            "value": "100%"
          }
        },
        "3fa161d8f8e440e3b7baf63aa8e22ac2": {
          "model_module": "@jupyter-widgets/base",
          "model_module_version": "1.2.0",
          "model_name": "LayoutModel",
          "state": {
            "_model_module": "@jupyter-widgets/base",
            "_model_module_version": "1.2.0",
            "_model_name": "LayoutModel",
            "_view_count": null,
            "_view_module": "@jupyter-widgets/base",
            "_view_module_version": "1.2.0",
            "_view_name": "LayoutView",
            "align_content": null,
            "align_items": null,
            "align_self": null,
            "border": null,
            "bottom": null,
            "display": null,
            "flex": null,
            "flex_flow": null,
            "grid_area": null,
            "grid_auto_columns": null,
            "grid_auto_flow": null,
            "grid_auto_rows": null,
            "grid_column": null,
            "grid_gap": null,
            "grid_row": null,
            "grid_template_areas": null,
            "grid_template_columns": null,
            "grid_template_rows": null,
            "height": null,
            "justify_content": null,
            "justify_items": null,
            "left": null,
            "margin": null,
            "max_height": null,
            "max_width": null,
            "min_height": null,
            "min_width": null,
            "object_fit": null,
            "object_position": null,
            "order": null,
            "overflow": null,
            "overflow_x": null,
            "overflow_y": null,
            "padding": null,
            "right": null,
            "top": null,
            "visibility": null,
            "width": null
          }
        },
        "559bbfd8f54c4111aa8d35c64b45fe5a": {
          "model_module": "@jupyter-widgets/base",
          "model_module_version": "1.2.0",
          "model_name": "LayoutModel",
          "state": {
            "_model_module": "@jupyter-widgets/base",
            "_model_module_version": "1.2.0",
            "_model_name": "LayoutModel",
            "_view_count": null,
            "_view_module": "@jupyter-widgets/base",
            "_view_module_version": "1.2.0",
            "_view_name": "LayoutView",
            "align_content": null,
            "align_items": null,
            "align_self": null,
            "border": null,
            "bottom": null,
            "display": null,
            "flex": null,
            "flex_flow": null,
            "grid_area": null,
            "grid_auto_columns": null,
            "grid_auto_flow": null,
            "grid_auto_rows": null,
            "grid_column": null,
            "grid_gap": null,
            "grid_row": null,
            "grid_template_areas": null,
            "grid_template_columns": null,
            "grid_template_rows": null,
            "height": null,
            "justify_content": null,
            "justify_items": null,
            "left": null,
            "margin": null,
            "max_height": null,
            "max_width": null,
            "min_height": null,
            "min_width": null,
            "object_fit": null,
            "object_position": null,
            "order": null,
            "overflow": null,
            "overflow_x": null,
            "overflow_y": null,
            "padding": null,
            "right": null,
            "top": null,
            "visibility": null,
            "width": null
          }
        },
        "7828dcc995c54413905b4f021dc407d6": {
          "model_module": "@jupyter-widgets/controls",
          "model_module_version": "1.5.0",
          "model_name": "ProgressStyleModel",
          "state": {
            "_model_module": "@jupyter-widgets/controls",
            "_model_module_version": "1.5.0",
            "_model_name": "ProgressStyleModel",
            "_view_count": null,
            "_view_module": "@jupyter-widgets/base",
            "_view_module_version": "1.2.0",
            "_view_name": "StyleView",
            "bar_color": null,
            "description_width": ""
          }
        },
        "8e33eb2f55804a4dbb7d9727623d1bba": {
          "model_module": "@jupyter-widgets/base",
          "model_module_version": "1.2.0",
          "model_name": "LayoutModel",
          "state": {
            "_model_module": "@jupyter-widgets/base",
            "_model_module_version": "1.2.0",
            "_model_name": "LayoutModel",
            "_view_count": null,
            "_view_module": "@jupyter-widgets/base",
            "_view_module_version": "1.2.0",
            "_view_name": "LayoutView",
            "align_content": null,
            "align_items": null,
            "align_self": null,
            "border": null,
            "bottom": null,
            "display": null,
            "flex": null,
            "flex_flow": null,
            "grid_area": null,
            "grid_auto_columns": null,
            "grid_auto_flow": null,
            "grid_auto_rows": null,
            "grid_column": null,
            "grid_gap": null,
            "grid_row": null,
            "grid_template_areas": null,
            "grid_template_columns": null,
            "grid_template_rows": null,
            "height": null,
            "justify_content": null,
            "justify_items": null,
            "left": null,
            "margin": null,
            "max_height": null,
            "max_width": null,
            "min_height": null,
            "min_width": null,
            "object_fit": null,
            "object_position": null,
            "order": null,
            "overflow": null,
            "overflow_x": null,
            "overflow_y": null,
            "padding": null,
            "right": null,
            "top": null,
            "visibility": null,
            "width": null
          }
        },
        "99926bba91c7492687ec349d3fe01227": {
          "model_module": "@jupyter-widgets/controls",
          "model_module_version": "1.5.0",
          "model_name": "ProgressStyleModel",
          "state": {
            "_model_module": "@jupyter-widgets/controls",
            "_model_module_version": "1.5.0",
            "_model_name": "ProgressStyleModel",
            "_view_count": null,
            "_view_module": "@jupyter-widgets/base",
            "_view_module_version": "1.2.0",
            "_view_name": "StyleView",
            "bar_color": null,
            "description_width": ""
          }
        },
        "abacab82cb4b49aaa4fcd4cce468a70e": {
          "model_module": "@jupyter-widgets/base",
          "model_module_version": "1.2.0",
          "model_name": "LayoutModel",
          "state": {
            "_model_module": "@jupyter-widgets/base",
            "_model_module_version": "1.2.0",
            "_model_name": "LayoutModel",
            "_view_count": null,
            "_view_module": "@jupyter-widgets/base",
            "_view_module_version": "1.2.0",
            "_view_name": "LayoutView",
            "align_content": null,
            "align_items": null,
            "align_self": null,
            "border": null,
            "bottom": null,
            "display": null,
            "flex": null,
            "flex_flow": null,
            "grid_area": null,
            "grid_auto_columns": null,
            "grid_auto_flow": null,
            "grid_auto_rows": null,
            "grid_column": null,
            "grid_gap": null,
            "grid_row": null,
            "grid_template_areas": null,
            "grid_template_columns": null,
            "grid_template_rows": null,
            "height": null,
            "justify_content": null,
            "justify_items": null,
            "left": null,
            "margin": null,
            "max_height": null,
            "max_width": null,
            "min_height": null,
            "min_width": null,
            "object_fit": null,
            "object_position": null,
            "order": null,
            "overflow": null,
            "overflow_x": null,
            "overflow_y": null,
            "padding": null,
            "right": null,
            "top": null,
            "visibility": null,
            "width": null
          }
        },
        "ac9f1ea0570042a2ae31b3f52af82610": {
          "model_module": "@jupyter-widgets/controls",
          "model_module_version": "1.5.0",
          "model_name": "DescriptionStyleModel",
          "state": {
            "_model_module": "@jupyter-widgets/controls",
            "_model_module_version": "1.5.0",
            "_model_name": "DescriptionStyleModel",
            "_view_count": null,
            "_view_module": "@jupyter-widgets/base",
            "_view_module_version": "1.2.0",
            "_view_name": "StyleView",
            "description_width": ""
          }
        },
        "aea5ef26da114e9897647f3aeb4a210f": {
          "model_module": "@jupyter-widgets/controls",
          "model_module_version": "1.5.0",
          "model_name": "DescriptionStyleModel",
          "state": {
            "_model_module": "@jupyter-widgets/controls",
            "_model_module_version": "1.5.0",
            "_model_name": "DescriptionStyleModel",
            "_view_count": null,
            "_view_module": "@jupyter-widgets/base",
            "_view_module_version": "1.2.0",
            "_view_name": "StyleView",
            "description_width": ""
          }
        },
        "ba3d6b27516a4d9bbdfc3e3a095bdd2b": {
          "model_module": "@jupyter-widgets/base",
          "model_module_version": "1.2.0",
          "model_name": "LayoutModel",
          "state": {
            "_model_module": "@jupyter-widgets/base",
            "_model_module_version": "1.2.0",
            "_model_name": "LayoutModel",
            "_view_count": null,
            "_view_module": "@jupyter-widgets/base",
            "_view_module_version": "1.2.0",
            "_view_name": "LayoutView",
            "align_content": null,
            "align_items": null,
            "align_self": null,
            "border": null,
            "bottom": null,
            "display": null,
            "flex": null,
            "flex_flow": null,
            "grid_area": null,
            "grid_auto_columns": null,
            "grid_auto_flow": null,
            "grid_auto_rows": null,
            "grid_column": null,
            "grid_gap": null,
            "grid_row": null,
            "grid_template_areas": null,
            "grid_template_columns": null,
            "grid_template_rows": null,
            "height": null,
            "justify_content": null,
            "justify_items": null,
            "left": null,
            "margin": null,
            "max_height": null,
            "max_width": null,
            "min_height": null,
            "min_width": null,
            "object_fit": null,
            "object_position": null,
            "order": null,
            "overflow": null,
            "overflow_x": null,
            "overflow_y": null,
            "padding": null,
            "right": null,
            "top": null,
            "visibility": null,
            "width": null
          }
        },
        "c708e6fb2dba408696bf1827704f31f0": {
          "model_module": "@jupyter-widgets/base",
          "model_module_version": "1.2.0",
          "model_name": "LayoutModel",
          "state": {
            "_model_module": "@jupyter-widgets/base",
            "_model_module_version": "1.2.0",
            "_model_name": "LayoutModel",
            "_view_count": null,
            "_view_module": "@jupyter-widgets/base",
            "_view_module_version": "1.2.0",
            "_view_name": "LayoutView",
            "align_content": null,
            "align_items": null,
            "align_self": null,
            "border": null,
            "bottom": null,
            "display": null,
            "flex": null,
            "flex_flow": null,
            "grid_area": null,
            "grid_auto_columns": null,
            "grid_auto_flow": null,
            "grid_auto_rows": null,
            "grid_column": null,
            "grid_gap": null,
            "grid_row": null,
            "grid_template_areas": null,
            "grid_template_columns": null,
            "grid_template_rows": null,
            "height": null,
            "justify_content": null,
            "justify_items": null,
            "left": null,
            "margin": null,
            "max_height": null,
            "max_width": null,
            "min_height": null,
            "min_width": null,
            "object_fit": null,
            "object_position": null,
            "order": null,
            "overflow": null,
            "overflow_x": null,
            "overflow_y": null,
            "padding": null,
            "right": null,
            "top": null,
            "visibility": null,
            "width": null
          }
        },
        "db2d3a3af559419c92068b7050a441ab": {
          "model_module": "@jupyter-widgets/controls",
          "model_module_version": "1.5.0",
          "model_name": "DescriptionStyleModel",
          "state": {
            "_model_module": "@jupyter-widgets/controls",
            "_model_module_version": "1.5.0",
            "_model_name": "DescriptionStyleModel",
            "_view_count": null,
            "_view_module": "@jupyter-widgets/base",
            "_view_module_version": "1.2.0",
            "_view_name": "StyleView",
            "description_width": ""
          }
        },
        "de951996ddcd4e83a44437168c88ec44": {
          "model_module": "@jupyter-widgets/controls",
          "model_module_version": "1.5.0",
          "model_name": "HTMLModel",
          "state": {
            "_dom_classes": [],
            "_model_module": "@jupyter-widgets/controls",
            "_model_module_version": "1.5.0",
            "_model_name": "HTMLModel",
            "_view_count": null,
            "_view_module": "@jupyter-widgets/controls",
            "_view_module_version": "1.5.0",
            "_view_name": "HTMLView",
            "description": "",
            "description_tooltip": null,
            "layout": "IPY_MODEL_ba3d6b27516a4d9bbdfc3e3a095bdd2b",
            "placeholder": "​",
            "style": "IPY_MODEL_db2d3a3af559419c92068b7050a441ab",
            "value": " 646/646 [01:02&lt;00:00,  9.01it/s]"
          }
        },
        "e54cef9294f24c4e888704178ff302e0": {
          "model_module": "@jupyter-widgets/base",
          "model_module_version": "1.2.0",
          "model_name": "LayoutModel",
          "state": {
            "_model_module": "@jupyter-widgets/base",
            "_model_module_version": "1.2.0",
            "_model_name": "LayoutModel",
            "_view_count": null,
            "_view_module": "@jupyter-widgets/base",
            "_view_module_version": "1.2.0",
            "_view_name": "LayoutView",
            "align_content": null,
            "align_items": null,
            "align_self": null,
            "border": null,
            "bottom": null,
            "display": null,
            "flex": null,
            "flex_flow": null,
            "grid_area": null,
            "grid_auto_columns": null,
            "grid_auto_flow": null,
            "grid_auto_rows": null,
            "grid_column": null,
            "grid_gap": null,
            "grid_row": null,
            "grid_template_areas": null,
            "grid_template_columns": null,
            "grid_template_rows": null,
            "height": null,
            "justify_content": null,
            "justify_items": null,
            "left": null,
            "margin": null,
            "max_height": null,
            "max_width": null,
            "min_height": null,
            "min_width": null,
            "object_fit": null,
            "object_position": null,
            "order": null,
            "overflow": null,
            "overflow_x": null,
            "overflow_y": null,
            "padding": null,
            "right": null,
            "top": null,
            "visibility": null,
            "width": null
          }
        },
        "f684fb2a839f41bca48575f543d8cd22": {
          "model_module": "@jupyter-widgets/controls",
          "model_module_version": "1.5.0",
          "model_name": "FloatProgressModel",
          "state": {
            "_dom_classes": [],
            "_model_module": "@jupyter-widgets/controls",
            "_model_module_version": "1.5.0",
            "_model_name": "FloatProgressModel",
            "_view_count": null,
            "_view_module": "@jupyter-widgets/controls",
            "_view_module_version": "1.5.0",
            "_view_name": "ProgressView",
            "bar_style": "success",
            "description": "",
            "description_tooltip": null,
            "layout": "IPY_MODEL_1a01aec5aff54b8d905a506f61c57a1a",
            "max": 646,
            "min": 0,
            "orientation": "horizontal",
            "style": "IPY_MODEL_7828dcc995c54413905b4f021dc407d6",
            "value": 646
          }
        }
      }
    }
  },
  "nbformat": 4,
  "nbformat_minor": 5
}
